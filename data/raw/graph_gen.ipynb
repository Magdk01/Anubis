{
 "cells": [
  {
   "cell_type": "code",
   "execution_count": 1,
   "metadata": {},
   "outputs": [],
   "source": [
    "import pandas as pd\n",
    "import matplotlib.pyplot as plt"
   ]
  },
  {
   "cell_type": "code",
   "execution_count": 97,
   "metadata": {},
   "outputs": [],
   "source": [
    "df = pd.read_csv(\"maybe_final_dataset_with_only_exp_data_1000_atoms_streaming_5.csv\")"
   ]
  },
  {
   "cell_type": "code",
   "execution_count": 29,
   "metadata": {},
   "outputs": [],
   "source": [
    "df2 = pd.read_csv(\"maybe_final_dataset_with_only_exp_data_1000_atoms_streaming_5_before.csv\")"
   ]
  },
  {
   "cell_type": "code",
   "execution_count": 21,
   "metadata": {},
   "outputs": [
    {
     "data": {
      "text/html": [
       "<div>\n",
       "<style scoped>\n",
       "    .dataframe tbody tr th:only-of-type {\n",
       "        vertical-align: middle;\n",
       "    }\n",
       "\n",
       "    .dataframe tbody tr th {\n",
       "        vertical-align: top;\n",
       "    }\n",
       "\n",
       "    .dataframe thead th {\n",
       "        text-align: right;\n",
       "    }\n",
       "</style>\n",
       "<table border=\"1\" class=\"dataframe\">\n",
       "  <thead>\n",
       "    <tr style=\"text-align: right;\">\n",
       "      <th></th>\n",
       "      <th>PDB</th>\n",
       "      <th>No. a.a.</th>\n",
       "      <th>Glycine</th>\n",
       "      <th>S.S.</th>\n",
       "      <th>Long SS</th>\n",
       "      <th>Charge</th>\n",
       "      <th>SASA</th>\n",
       "      <th>No. pos.</th>\n",
       "      <th>No. Surf. pos.</th>\n",
       "      <th>Pos. area</th>\n",
       "      <th>...</th>\n",
       "      <th>Neg. area</th>\n",
       "      <th>No. hyd.</th>\n",
       "      <th>No. Surf. hyd.</th>\n",
       "      <th>hyd. area</th>\n",
       "      <th>Alpha</th>\n",
       "      <th>Beta</th>\n",
       "      <th>Salt bridges</th>\n",
       "      <th>H-bonds</th>\n",
       "      <th>coords</th>\n",
       "      <th>atom_len</th>\n",
       "    </tr>\n",
       "  </thead>\n",
       "  <tbody>\n",
       "    <tr>\n",
       "      <th>0</th>\n",
       "      <td>1KQV</td>\n",
       "      <td>79</td>\n",
       "      <td>5</td>\n",
       "      <td>0.0</td>\n",
       "      <td>N</td>\n",
       "      <td>-6</td>\n",
       "      <td>5088.779297</td>\n",
       "      <td>11</td>\n",
       "      <td>10</td>\n",
       "      <td>1377.222534</td>\n",
       "      <td>...</td>\n",
       "      <td>1224.603271</td>\n",
       "      <td>28</td>\n",
       "      <td>16</td>\n",
       "      <td>846.616516</td>\n",
       "      <td>72.000000</td>\n",
       "      <td>0.000000</td>\n",
       "      <td>3</td>\n",
       "      <td>73</td>\n",
       "      <td>[('N', 0.0, 0.0, 1.0), ('C', 0.0, -1.245, 1.0)...</td>\n",
       "      <td>600</td>\n",
       "    </tr>\n",
       "    <tr>\n",
       "      <th>1</th>\n",
       "      <td>2LO9</td>\n",
       "      <td>24</td>\n",
       "      <td>4</td>\n",
       "      <td>3.0</td>\n",
       "      <td>2</td>\n",
       "      <td>5</td>\n",
       "      <td>2329.424561</td>\n",
       "      <td>7</td>\n",
       "      <td>7</td>\n",
       "      <td>1349.644287</td>\n",
       "      <td>...</td>\n",
       "      <td>257.636139</td>\n",
       "      <td>2</td>\n",
       "      <td>2</td>\n",
       "      <td>244.853607</td>\n",
       "      <td>79.166667</td>\n",
       "      <td>0.000000</td>\n",
       "      <td>0</td>\n",
       "      <td>22</td>\n",
       "      <td>[('N', 0.784, 2.408, 1.0), ('C', 0.631, 1.129,...</td>\n",
       "      <td>187</td>\n",
       "    </tr>\n",
       "    <tr>\n",
       "      <th>2</th>\n",
       "      <td>1YWW</td>\n",
       "      <td>85</td>\n",
       "      <td>9</td>\n",
       "      <td>0.0</td>\n",
       "      <td>N</td>\n",
       "      <td>-1</td>\n",
       "      <td>4429.139648</td>\n",
       "      <td>13</td>\n",
       "      <td>12</td>\n",
       "      <td>1393.878662</td>\n",
       "      <td>...</td>\n",
       "      <td>1125.815430</td>\n",
       "      <td>25</td>\n",
       "      <td>14</td>\n",
       "      <td>823.952698</td>\n",
       "      <td>72.307692</td>\n",
       "      <td>0.000000</td>\n",
       "      <td>11</td>\n",
       "      <td>79</td>\n",
       "      <td>[('N', 9.125, -4.535, 1.0), ('C', 7.817, -5.20...</td>\n",
       "      <td>537</td>\n",
       "    </tr>\n",
       "    <tr>\n",
       "      <th>3</th>\n",
       "      <td>1ECI</td>\n",
       "      <td>37</td>\n",
       "      <td>3</td>\n",
       "      <td>1.0</td>\n",
       "      <td>1</td>\n",
       "      <td>3</td>\n",
       "      <td>3310.657959</td>\n",
       "      <td>7</td>\n",
       "      <td>7</td>\n",
       "      <td>1076.215332</td>\n",
       "      <td>...</td>\n",
       "      <td>306.275421</td>\n",
       "      <td>13</td>\n",
       "      <td>13</td>\n",
       "      <td>945.152832</td>\n",
       "      <td>72.972973</td>\n",
       "      <td>0.000000</td>\n",
       "      <td>1</td>\n",
       "      <td>38</td>\n",
       "      <td>[('N', -14.009, 7.409, 1.0), ('C', -13.171, 6....</td>\n",
       "      <td>550</td>\n",
       "    </tr>\n",
       "    <tr>\n",
       "      <th>4</th>\n",
       "      <td>2K7G</td>\n",
       "      <td>29</td>\n",
       "      <td>4</td>\n",
       "      <td>3.0</td>\n",
       "      <td>3</td>\n",
       "      <td>0</td>\n",
       "      <td>2150.773438</td>\n",
       "      <td>1</td>\n",
       "      <td>1</td>\n",
       "      <td>89.623283</td>\n",
       "      <td>...</td>\n",
       "      <td>27.525930</td>\n",
       "      <td>7</td>\n",
       "      <td>7</td>\n",
       "      <td>934.919983</td>\n",
       "      <td>10.344828</td>\n",
       "      <td>51.724138</td>\n",
       "      <td>0</td>\n",
       "      <td>26</td>\n",
       "      <td>[('N', 8.22, 0.903, 1.0), ('C', 8.946, 0.247, ...</td>\n",
       "      <td>202</td>\n",
       "    </tr>\n",
       "  </tbody>\n",
       "</table>\n",
       "<p>5 rows × 22 columns</p>\n",
       "</div>"
      ],
      "text/plain": [
       "    PDB  No. a.a.  Glycine  S.S. Long SS  Charge         SASA  No. pos.  \\\n",
       "0  1KQV        79        5   0.0       N      -6  5088.779297        11   \n",
       "1  2LO9        24        4   3.0       2       5  2329.424561         7   \n",
       "2  1YWW        85        9   0.0       N      -1  4429.139648        13   \n",
       "3  1ECI        37        3   1.0       1       3  3310.657959         7   \n",
       "4  2K7G        29        4   3.0       3       0  2150.773438         1   \n",
       "\n",
       "   No. Surf. pos.    Pos. area  ...    Neg. area  No. hyd.  No. Surf. hyd.  \\\n",
       "0              10  1377.222534  ...  1224.603271        28              16   \n",
       "1               7  1349.644287  ...   257.636139         2               2   \n",
       "2              12  1393.878662  ...  1125.815430        25              14   \n",
       "3               7  1076.215332  ...   306.275421        13              13   \n",
       "4               1    89.623283  ...    27.525930         7               7   \n",
       "\n",
       "    hyd. area      Alpha       Beta  Salt bridges  H-bonds  \\\n",
       "0  846.616516  72.000000   0.000000             3       73   \n",
       "1  244.853607  79.166667   0.000000             0       22   \n",
       "2  823.952698  72.307692   0.000000            11       79   \n",
       "3  945.152832  72.972973   0.000000             1       38   \n",
       "4  934.919983  10.344828  51.724138             0       26   \n",
       "\n",
       "                                              coords  atom_len  \n",
       "0  [('N', 0.0, 0.0, 1.0), ('C', 0.0, -1.245, 1.0)...       600  \n",
       "1  [('N', 0.784, 2.408, 1.0), ('C', 0.631, 1.129,...       187  \n",
       "2  [('N', 9.125, -4.535, 1.0), ('C', 7.817, -5.20...       537  \n",
       "3  [('N', -14.009, 7.409, 1.0), ('C', -13.171, 6....       550  \n",
       "4  [('N', 8.22, 0.903, 1.0), ('C', 8.946, 0.247, ...       202  \n",
       "\n",
       "[5 rows x 22 columns]"
      ]
     },
     "execution_count": 21,
     "metadata": {},
     "output_type": "execute_result"
    }
   ],
   "source": [
    "df.head()"
   ]
  },
  {
   "cell_type": "markdown",
   "metadata": {},
   "source": [
    "# Histogram gen"
   ]
  },
  {
   "cell_type": "code",
   "execution_count": 33,
   "metadata": {},
   "outputs": [
    {
     "data": {
      "image/png": "[encoded data removed]",
      "text/plain": [
       "<Figure size 640x480 with 1 Axes>"
      ]
     },
     "metadata": {},
     "output_type": "display_data"
    }
   ],
   "source": [
    "hi2 = plt.hist(df2.atom_len,bins=[0,100,200,300,400,500,600,700,800,900,1000])\n",
    "hi = plt.hist(df.atom_len,bins=[0,100,200,300,400,500,600,700,800,900,1000])\n"
   ]
  },
  {
   "cell_type": "code",
   "execution_count": 34,
   "metadata": {},
   "outputs": [
    {
     "data": {
      "text/plain": [
       "(array([ 647., 1183., 1380., 1271., 1959., 1602., 1725., 1951., 2334.,\n",
       "        1109.]),\n",
       " array([   0.,  100.,  200.,  300.,  400.,  500.,  600.,  700.,  800.,\n",
       "         900., 1000.]),\n",
       " <BarContainer object of 10 artists>)"
      ]
     },
     "execution_count": 34,
     "metadata": {},
     "output_type": "execute_result"
    }
   ],
   "source": [
    "hi2"
   ]
  },
  {
   "cell_type": "code",
   "execution_count": 35,
   "metadata": {},
   "outputs": [
    {
     "data": {
      "text/plain": [
       "(array([ 620.,  996., 1061.,  806., 1095., 1340., 1556., 1832., 1963.,\n",
       "        1058.]),\n",
       " array([   0.,  100.,  200.,  300.,  400.,  500.,  600.,  700.,  800.,\n",
       "         900., 1000.]),\n",
       " <BarContainer object of 10 artists>)"
      ]
     },
     "execution_count": 35,
     "metadata": {},
     "output_type": "execute_result"
    }
   ],
   "source": [
    "hi"
   ]
  },
  {
   "cell_type": "code",
   "execution_count": null,
   "metadata": {},
   "outputs": [],
   "source": []
  },
  {
   "cell_type": "markdown",
   "metadata": {},
   "source": [
    "# Random Pred Calc"
   ]
  },
  {
   "cell_type": "code",
   "execution_count": 109,
   "metadata": {},
   "outputs": [],
   "source": [
    "df = pd.read_csv(\"maybe_final_dataset_with_only_exp_data_1000_atoms_streaming_5.csv\")"
   ]
  },
  {
   "cell_type": "code",
   "execution_count": 110,
   "metadata": {},
   "outputs": [
    {
     "data": {
      "image/png": "[encoded data removed]",
      "text/plain": [
       "<Figure size 640x480 with 1 Axes>"
      ]
     },
     "metadata": {},
     "output_type": "display_data"
    }
   ],
   "source": [
    "target_bin = plt.hist(df.Alpha,bins=100)"
   ]
  },
  {
   "cell_type": "code",
   "execution_count": 111,
   "metadata": {},
   "outputs": [],
   "source": [
    "import numpy as np"
   ]
  },
  {
   "cell_type": "code",
   "execution_count": 112,
   "metadata": {},
   "outputs": [
    {
     "data": {
      "text/plain": [
       "98.47422680412372"
      ]
     },
     "execution_count": 112,
     "metadata": {},
     "output_type": "execute_result"
    }
   ],
   "source": [
    "np.mean(target_bin[0][1:-2])"
   ]
  },
  {
   "cell_type": "code",
   "execution_count": 113,
   "metadata": {},
   "outputs": [],
   "source": [
    "target0_index = df[df.Alpha==0].index\n",
    "target100_index = df[df.Alpha==100].index"
   ]
  },
  {
   "cell_type": "code",
   "execution_count": 114,
   "metadata": {},
   "outputs": [],
   "source": [
    "np.random.seed(42)\n",
    "selected_tar0 = np.random.choice(target0_index,98)\n",
    "selected_tar100 = np.random.choice(target100_index,98)"
   ]
  },
  {
   "cell_type": "code",
   "execution_count": 115,
   "metadata": {},
   "outputs": [],
   "source": [
    "drop_idxs0 = np.array(list(set(list(target0_index))-set(selected_tar0)))\n",
    "drop_idxs100 = np.array(list(set(list(target100_index))-set(selected_tar100)))"
   ]
  },
  {
   "cell_type": "code",
   "execution_count": 116,
   "metadata": {},
   "outputs": [
    {
     "data": {
      "text/plain": [
       "2409"
      ]
     },
     "execution_count": 116,
     "metadata": {},
     "output_type": "execute_result"
    }
   ],
   "source": [
    "len(drop_idxs0)"
   ]
  },
  {
   "cell_type": "code",
   "execution_count": 117,
   "metadata": {},
   "outputs": [
    {
     "data": {
      "text/html": [
       "<div>\n",
       "<style scoped>\n",
       "    .dataframe tbody tr th:only-of-type {\n",
       "        vertical-align: middle;\n",
       "    }\n",
       "\n",
       "    .dataframe tbody tr th {\n",
       "        vertical-align: top;\n",
       "    }\n",
       "\n",
       "    .dataframe thead th {\n",
       "        text-align: right;\n",
       "    }\n",
       "</style>\n",
       "<table border=\"1\" class=\"dataframe\">\n",
       "  <thead>\n",
       "    <tr style=\"text-align: right;\">\n",
       "      <th></th>\n",
       "      <th>PDB</th>\n",
       "      <th>No. a.a.</th>\n",
       "      <th>Glycine</th>\n",
       "      <th>S.S.</th>\n",
       "      <th>Long SS</th>\n",
       "      <th>Charge</th>\n",
       "      <th>SASA</th>\n",
       "      <th>No. pos.</th>\n",
       "      <th>No. Surf. pos.</th>\n",
       "      <th>Pos. area</th>\n",
       "      <th>...</th>\n",
       "      <th>Neg. area</th>\n",
       "      <th>No. hyd.</th>\n",
       "      <th>No. Surf. hyd.</th>\n",
       "      <th>hyd. area</th>\n",
       "      <th>Alpha</th>\n",
       "      <th>Beta</th>\n",
       "      <th>Salt bridges</th>\n",
       "      <th>H-bonds</th>\n",
       "      <th>coords</th>\n",
       "      <th>atom_len</th>\n",
       "    </tr>\n",
       "  </thead>\n",
       "  <tbody>\n",
       "    <tr>\n",
       "      <th>0</th>\n",
       "      <td>1KQV</td>\n",
       "      <td>79</td>\n",
       "      <td>5</td>\n",
       "      <td>0.0</td>\n",
       "      <td>N</td>\n",
       "      <td>-6</td>\n",
       "      <td>5088.779297</td>\n",
       "      <td>11</td>\n",
       "      <td>10</td>\n",
       "      <td>1377.222534</td>\n",
       "      <td>...</td>\n",
       "      <td>1224.603271</td>\n",
       "      <td>28</td>\n",
       "      <td>16</td>\n",
       "      <td>846.616516</td>\n",
       "      <td>72.000000</td>\n",
       "      <td>0.000000</td>\n",
       "      <td>3</td>\n",
       "      <td>73</td>\n",
       "      <td>[('N', 0.0, 0.0, 1.0), ('C', 0.0, -1.245, 1.0)...</td>\n",
       "      <td>600</td>\n",
       "    </tr>\n",
       "    <tr>\n",
       "      <th>1</th>\n",
       "      <td>2LO9</td>\n",
       "      <td>24</td>\n",
       "      <td>4</td>\n",
       "      <td>3.0</td>\n",
       "      <td>2</td>\n",
       "      <td>5</td>\n",
       "      <td>2329.424561</td>\n",
       "      <td>7</td>\n",
       "      <td>7</td>\n",
       "      <td>1349.644287</td>\n",
       "      <td>...</td>\n",
       "      <td>257.636139</td>\n",
       "      <td>2</td>\n",
       "      <td>2</td>\n",
       "      <td>244.853607</td>\n",
       "      <td>79.166667</td>\n",
       "      <td>0.000000</td>\n",
       "      <td>0</td>\n",
       "      <td>22</td>\n",
       "      <td>[('N', 0.784, 2.408, 1.0), ('C', 0.631, 1.129,...</td>\n",
       "      <td>187</td>\n",
       "    </tr>\n",
       "    <tr>\n",
       "      <th>2</th>\n",
       "      <td>1YWW</td>\n",
       "      <td>85</td>\n",
       "      <td>9</td>\n",
       "      <td>0.0</td>\n",
       "      <td>N</td>\n",
       "      <td>-1</td>\n",
       "      <td>4429.139648</td>\n",
       "      <td>13</td>\n",
       "      <td>12</td>\n",
       "      <td>1393.878662</td>\n",
       "      <td>...</td>\n",
       "      <td>1125.815430</td>\n",
       "      <td>25</td>\n",
       "      <td>14</td>\n",
       "      <td>823.952698</td>\n",
       "      <td>72.307692</td>\n",
       "      <td>0.000000</td>\n",
       "      <td>11</td>\n",
       "      <td>79</td>\n",
       "      <td>[('N', 9.125, -4.535, 1.0), ('C', 7.817, -5.20...</td>\n",
       "      <td>537</td>\n",
       "    </tr>\n",
       "    <tr>\n",
       "      <th>3</th>\n",
       "      <td>1ECI</td>\n",
       "      <td>37</td>\n",
       "      <td>3</td>\n",
       "      <td>1.0</td>\n",
       "      <td>1</td>\n",
       "      <td>3</td>\n",
       "      <td>3310.657959</td>\n",
       "      <td>7</td>\n",
       "      <td>7</td>\n",
       "      <td>1076.215332</td>\n",
       "      <td>...</td>\n",
       "      <td>306.275421</td>\n",
       "      <td>13</td>\n",
       "      <td>13</td>\n",
       "      <td>945.152832</td>\n",
       "      <td>72.972973</td>\n",
       "      <td>0.000000</td>\n",
       "      <td>1</td>\n",
       "      <td>38</td>\n",
       "      <td>[('N', -14.009, 7.409, 1.0), ('C', -13.171, 6....</td>\n",
       "      <td>550</td>\n",
       "    </tr>\n",
       "    <tr>\n",
       "      <th>4</th>\n",
       "      <td>2K7G</td>\n",
       "      <td>29</td>\n",
       "      <td>4</td>\n",
       "      <td>3.0</td>\n",
       "      <td>3</td>\n",
       "      <td>0</td>\n",
       "      <td>2150.773438</td>\n",
       "      <td>1</td>\n",
       "      <td>1</td>\n",
       "      <td>89.623283</td>\n",
       "      <td>...</td>\n",
       "      <td>27.525930</td>\n",
       "      <td>7</td>\n",
       "      <td>7</td>\n",
       "      <td>934.919983</td>\n",
       "      <td>10.344828</td>\n",
       "      <td>51.724138</td>\n",
       "      <td>0</td>\n",
       "      <td>26</td>\n",
       "      <td>[('N', 8.22, 0.903, 1.0), ('C', 8.946, 0.247, ...</td>\n",
       "      <td>202</td>\n",
       "    </tr>\n",
       "    <tr>\n",
       "      <th>...</th>\n",
       "      <td>...</td>\n",
       "      <td>...</td>\n",
       "      <td>...</td>\n",
       "      <td>...</td>\n",
       "      <td>...</td>\n",
       "      <td>...</td>\n",
       "      <td>...</td>\n",
       "      <td>...</td>\n",
       "      <td>...</td>\n",
       "      <td>...</td>\n",
       "      <td>...</td>\n",
       "      <td>...</td>\n",
       "      <td>...</td>\n",
       "      <td>...</td>\n",
       "      <td>...</td>\n",
       "      <td>...</td>\n",
       "      <td>...</td>\n",
       "      <td>...</td>\n",
       "      <td>...</td>\n",
       "      <td>...</td>\n",
       "      <td>...</td>\n",
       "    </tr>\n",
       "    <tr>\n",
       "      <th>12323</th>\n",
       "      <td>2LYP</td>\n",
       "      <td>66</td>\n",
       "      <td>1</td>\n",
       "      <td>0.0</td>\n",
       "      <td>N</td>\n",
       "      <td>2</td>\n",
       "      <td>4448.812988</td>\n",
       "      <td>9</td>\n",
       "      <td>9</td>\n",
       "      <td>939.568542</td>\n",
       "      <td>...</td>\n",
       "      <td>656.454468</td>\n",
       "      <td>29</td>\n",
       "      <td>20</td>\n",
       "      <td>1490.660767</td>\n",
       "      <td>71.212121</td>\n",
       "      <td>6.060606</td>\n",
       "      <td>0</td>\n",
       "      <td>67</td>\n",
       "      <td>[('N', 5.658, -9.717, 1.0), ('C', 5.709, -8.50...</td>\n",
       "      <td>544</td>\n",
       "    </tr>\n",
       "    <tr>\n",
       "      <th>12324</th>\n",
       "      <td>2MQH</td>\n",
       "      <td>82</td>\n",
       "      <td>14</td>\n",
       "      <td>0.0</td>\n",
       "      <td>N</td>\n",
       "      <td>-2</td>\n",
       "      <td>6060.620605</td>\n",
       "      <td>8</td>\n",
       "      <td>7</td>\n",
       "      <td>1023.832275</td>\n",
       "      <td>...</td>\n",
       "      <td>1115.060669</td>\n",
       "      <td>23</td>\n",
       "      <td>20</td>\n",
       "      <td>1450.909668</td>\n",
       "      <td>4.166667</td>\n",
       "      <td>33.333333</td>\n",
       "      <td>0</td>\n",
       "      <td>28</td>\n",
       "      <td>[('N', 0.0, 0.0, 1.0), ('C', 0.001, -1.247, 1....</td>\n",
       "      <td>546</td>\n",
       "    </tr>\n",
       "    <tr>\n",
       "      <th>12325</th>\n",
       "      <td>2HGM</td>\n",
       "      <td>126</td>\n",
       "      <td>16</td>\n",
       "      <td>0.0</td>\n",
       "      <td>N</td>\n",
       "      <td>-1</td>\n",
       "      <td>5200.816895</td>\n",
       "      <td>13</td>\n",
       "      <td>11</td>\n",
       "      <td>1052.048584</td>\n",
       "      <td>...</td>\n",
       "      <td>1024.213501</td>\n",
       "      <td>41</td>\n",
       "      <td>21</td>\n",
       "      <td>1261.239624</td>\n",
       "      <td>25.000000</td>\n",
       "      <td>22.826087</td>\n",
       "      <td>15</td>\n",
       "      <td>111</td>\n",
       "      <td>[('N', 15.928, 3.146, 1.0), ('C', 15.371, 4.02...</td>\n",
       "      <td>722</td>\n",
       "    </tr>\n",
       "    <tr>\n",
       "      <th>12326</th>\n",
       "      <td>1LR7</td>\n",
       "      <td>74</td>\n",
       "      <td>6</td>\n",
       "      <td>5.0</td>\n",
       "      <td>4</td>\n",
       "      <td>6</td>\n",
       "      <td>5072.471191</td>\n",
       "      <td>15</td>\n",
       "      <td>15</td>\n",
       "      <td>1614.037598</td>\n",
       "      <td>...</td>\n",
       "      <td>771.645264</td>\n",
       "      <td>17</td>\n",
       "      <td>13</td>\n",
       "      <td>747.020569</td>\n",
       "      <td>23.287671</td>\n",
       "      <td>26.027397</td>\n",
       "      <td>0</td>\n",
       "      <td>59</td>\n",
       "      <td>[('N', 11.262, 35.912, 1.0), ('C', 10.164, 35....</td>\n",
       "      <td>522</td>\n",
       "    </tr>\n",
       "    <tr>\n",
       "      <th>12329</th>\n",
       "      <td>4MJE</td>\n",
       "      <td>99</td>\n",
       "      <td>9</td>\n",
       "      <td>0.0</td>\n",
       "      <td>N</td>\n",
       "      <td>-3</td>\n",
       "      <td>6920.053711</td>\n",
       "      <td>10</td>\n",
       "      <td>10</td>\n",
       "      <td>1212.417603</td>\n",
       "      <td>...</td>\n",
       "      <td>1021.894409</td>\n",
       "      <td>39</td>\n",
       "      <td>31</td>\n",
       "      <td>1760.800415</td>\n",
       "      <td>45.454545</td>\n",
       "      <td>17.171717</td>\n",
       "      <td>11</td>\n",
       "      <td>102</td>\n",
       "      <td>[('N', -1.202, 20.247, 1.0), ('C', -1.533, 19....</td>\n",
       "      <td>778</td>\n",
       "    </tr>\n",
       "  </tbody>\n",
       "</table>\n",
       "<p>9750 rows × 22 columns</p>\n",
       "</div>"
      ],
      "text/plain": [
       "        PDB  No. a.a.  Glycine  S.S. Long SS  Charge         SASA  No. pos.  \\\n",
       "0      1KQV        79        5   0.0       N      -6  5088.779297        11   \n",
       "1      2LO9        24        4   3.0       2       5  2329.424561         7   \n",
       "2      1YWW        85        9   0.0       N      -1  4429.139648        13   \n",
       "3      1ECI        37        3   1.0       1       3  3310.657959         7   \n",
       "4      2K7G        29        4   3.0       3       0  2150.773438         1   \n",
       "...     ...       ...      ...   ...     ...     ...          ...       ...   \n",
       "12323  2LYP        66        1   0.0       N       2  4448.812988         9   \n",
       "12324  2MQH        82       14   0.0       N      -2  6060.620605         8   \n",
       "12325  2HGM       126       16   0.0       N      -1  5200.816895        13   \n",
       "12326  1LR7        74        6   5.0       4       6  5072.471191        15   \n",
       "12329  4MJE        99        9   0.0       N      -3  6920.053711        10   \n",
       "\n",
       "       No. Surf. pos.    Pos. area  ...    Neg. area  No. hyd.  \\\n",
       "0                  10  1377.222534  ...  1224.603271        28   \n",
       "1                   7  1349.644287  ...   257.636139         2   \n",
       "2                  12  1393.878662  ...  1125.815430        25   \n",
       "3                   7  1076.215332  ...   306.275421        13   \n",
       "4                   1    89.623283  ...    27.525930         7   \n",
       "...               ...          ...  ...          ...       ...   \n",
       "12323               9   939.568542  ...   656.454468        29   \n",
       "12324               7  1023.832275  ...  1115.060669        23   \n",
       "12325              11  1052.048584  ...  1024.213501        41   \n",
       "12326              15  1614.037598  ...   771.645264        17   \n",
       "12329              10  1212.417603  ...  1021.894409        39   \n",
       "\n",
       "       No. Surf. hyd.    hyd. area      Alpha       Beta  Salt bridges  \\\n",
       "0                  16   846.616516  72.000000   0.000000             3   \n",
       "1                   2   244.853607  79.166667   0.000000             0   \n",
       "2                  14   823.952698  72.307692   0.000000            11   \n",
       "3                  13   945.152832  72.972973   0.000000             1   \n",
       "4                   7   934.919983  10.344828  51.724138             0   \n",
       "...               ...          ...        ...        ...           ...   \n",
       "12323              20  1490.660767  71.212121   6.060606             0   \n",
       "12324              20  1450.909668   4.166667  33.333333             0   \n",
       "12325              21  1261.239624  25.000000  22.826087            15   \n",
       "12326              13   747.020569  23.287671  26.027397             0   \n",
       "12329              31  1760.800415  45.454545  17.171717            11   \n",
       "\n",
       "       H-bonds                                             coords  atom_len  \n",
       "0           73  [('N', 0.0, 0.0, 1.0), ('C', 0.0, -1.245, 1.0)...       600  \n",
       "1           22  [('N', 0.784, 2.408, 1.0), ('C', 0.631, 1.129,...       187  \n",
       "2           79  [('N', 9.125, -4.535, 1.0), ('C', 7.817, -5.20...       537  \n",
       "3           38  [('N', -14.009, 7.409, 1.0), ('C', -13.171, 6....       550  \n",
       "4           26  [('N', 8.22, 0.903, 1.0), ('C', 8.946, 0.247, ...       202  \n",
       "...        ...                                                ...       ...  \n",
       "12323       67  [('N', 5.658, -9.717, 1.0), ('C', 5.709, -8.50...       544  \n",
       "12324       28  [('N', 0.0, 0.0, 1.0), ('C', 0.001, -1.247, 1....       546  \n",
       "12325      111  [('N', 15.928, 3.146, 1.0), ('C', 15.371, 4.02...       722  \n",
       "12326       59  [('N', 11.262, 35.912, 1.0), ('C', 10.164, 35....       522  \n",
       "12329      102  [('N', -1.202, 20.247, 1.0), ('C', -1.533, 19....       778  \n",
       "\n",
       "[9750 rows x 22 columns]"
      ]
     },
     "execution_count": 117,
     "metadata": {},
     "output_type": "execute_result"
    }
   ],
   "source": [
    "new_df = df.drop(drop_idxs0)\n",
    "new_df = new_df.drop(drop_idxs100)\n",
    "new_df"
   ]
  },
  {
   "cell_type": "code",
   "execution_count": 118,
   "metadata": {},
   "outputs": [
    {
     "data": {
      "image/png": "[encoded data removed]",
      "text/plain": [
       "<Figure size 640x480 with 1 Axes>"
      ]
     },
     "metadata": {},
     "output_type": "display_data"
    }
   ],
   "source": [
    "target_bin = plt.hist(new_df.Alpha,bins=100)"
   ]
  },
  {
   "cell_type": "code",
   "execution_count": 119,
   "metadata": {},
   "outputs": [
    {
     "data": {
      "image/png": "[encoded data removed]",
      "text/plain": [
       "<Figure size 640x480 with 1 Axes>"
      ]
     },
     "metadata": {},
     "output_type": "display_data"
    }
   ],
   "source": [
    "target_bin = plt.hist(new_df.Alpha,bins=10)"
   ]
  },
  {
   "cell_type": "code",
   "execution_count": 122,
   "metadata": {},
   "outputs": [],
   "source": [
    "targets = new_df.Alpha"
   ]
  },
  {
   "cell_type": "code",
   "execution_count": 124,
   "metadata": {},
   "outputs": [],
   "source": [
    "stand_tar = (targets-np.mean(targets))/np.std(targets)"
   ]
  },
  {
   "cell_type": "code",
   "execution_count": 125,
   "metadata": {},
   "outputs": [
    {
     "data": {
      "text/plain": [
       "(array([ 867., 1205., 1566., 1113.,  950.,  919.,  933.,  902.,  739.,\n",
       "         556.]),\n",
       " array([-1.67129063, -1.2985126 , -0.92573457, -0.55295654, -0.18017851,\n",
       "         0.19259952,  0.56537755,  0.93815558,  1.31093361,  1.68371164,\n",
       "         2.05648967]),\n",
       " <BarContainer object of 10 artists>)"
      ]
     },
     "execution_count": 125,
     "metadata": {},
     "output_type": "execute_result"
    },
    {
     "data": {
      "image/png": "[encoded data removed]",
      "text/plain": [
       "<Figure size 640x480 with 1 Axes>"
      ]
     },
     "metadata": {},
     "output_type": "display_data"
    }
   ],
   "source": [
    "plt.hist(stand_tar)"
   ]
  },
  {
   "cell_type": "code",
   "execution_count": null,
   "metadata": {},
   "outputs": [],
   "source": []
  },
  {
   "cell_type": "code",
   "execution_count": 144,
   "metadata": {},
   "outputs": [],
   "source": [
    "mmse = []\n",
    "for i in range(10000):\n",
    "    random_preds = np.random.uniform(min(stand_tar),max(stand_tar),[len(stand_tar)])\n",
    "    mse = ((stand_tar - random_preds)**2).mean(axis=0)\n",
    "    mmse.append(mse)"
   ]
  },
  {
   "cell_type": "code",
   "execution_count": 145,
   "metadata": {},
   "outputs": [
    {
     "data": {
      "text/plain": [
       "2.1950230678593123"
      ]
     },
     "execution_count": 145,
     "metadata": {},
     "output_type": "execute_result"
    }
   ],
   "source": [
    "np.mean(mmse)"
   ]
  },
  {
   "cell_type": "code",
   "execution_count": 148,
   "metadata": {},
   "outputs": [
    {
     "data": {
      "text/plain": [
       "1.0"
      ]
     },
     "execution_count": 148,
     "metadata": {},
     "output_type": "execute_result"
    }
   ],
   "source": [
    "((stand_tar - [0]*len(stand_tar))**2).mean(axis=0)"
   ]
  }
 ],
 "metadata": {
  "kernelspec": {
   "display_name": "scaling_model",
   "language": "python",
   "name": "python3"
  },
  "language_info": {
   "codemirror_mode": {
    "name": "ipython",
    "version": 3
   },
   "file_extension": ".py",
   "mimetype": "text/x-python",
   "name": "python",
   "nbconvert_exporter": "python",
   "pygments_lexer": "ipython3",
   "version": "3.10.13"
  }
 },
 "nbformat": 4,
 "nbformat_minor": 2
}
